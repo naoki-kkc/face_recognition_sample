{
 "cells": [
  {
   "cell_type": "code",
   "execution_count": 1,
   "id": "0bf55927",
   "metadata": {},
   "outputs": [],
   "source": [
    "import cv2"
   ]
  },
  {
   "cell_type": "code",
   "execution_count": 2,
   "id": "a1a75db6",
   "metadata": {},
   "outputs": [],
   "source": [
    "# カスケードファイル読み込み\n",
    "cc = cv2.CascadeClassifier('haarcascade_frontalface_default.xml')"
   ]
  },
  {
   "cell_type": "code",
   "execution_count": 3,
   "id": "3eff5275",
   "metadata": {},
   "outputs": [],
   "source": [
    "# 画像読み込み\n",
    "raw_img = cv2.imread('003.jpg')"
   ]
  },
  {
   "cell_type": "code",
   "execution_count": 4,
   "id": "b24c531d",
   "metadata": {},
   "outputs": [],
   "source": [
    "# 読み込んだ画像をグレスケ化\n",
    "gry_img = cv2.cvtColor(raw_img, cv2.COLOR_BGR2GRAY)"
   ]
  },
  {
   "cell_type": "code",
   "execution_count": 5,
   "id": "965c26db",
   "metadata": {},
   "outputs": [
    {
     "name": "stdout",
     "output_type": "stream",
     "text": [
      "face[0] = [ 66 112 180 180]\n",
      "face[0] : x=66, y=112, width=180, height=180\n",
      "face[1] = [504 117 148 148]\n",
      "face[1] : x=504, y=117, width=148, height=148\n",
      "face[2] = [300 160 147 147]\n",
      "face[2] : x=300, y=160, width=147, height=147\n"
     ]
    }
   ],
   "source": [
    "# 顔検出\n",
    "face = cc.detectMultiScale(gry_img, scaleFactor=1.1)\n",
    "cnt = 0\n",
    "while cnt < len(face):\n",
    "    print(f'face[{cnt}] = {str(face[cnt])}')\n",
    "    print(f'face[{cnt}] : x={str(face[cnt][0])}, y={str(face[cnt][1])}, width={str(face[cnt][2])}, height={str(face[cnt][3])}')\n",
    "    cnt += 1"
   ]
  },
  {
   "cell_type": "code",
   "execution_count": 6,
   "id": "e1647e2c",
   "metadata": {},
   "outputs": [],
   "source": [
    "# # サンプル描画\n",
    "# cv2.rectangle(raw_img, (100, 200), (150, 300), (255, 0, 0))\n",
    "# cv2.imwrite('003_rect_sample.jpg', raw_img)"
   ]
  },
  {
   "cell_type": "code",
   "execution_count": 7,
   "id": "1193da98",
   "metadata": {},
   "outputs": [
    {
     "data": {
      "text/plain": [
       "True"
      ]
     },
     "execution_count": 7,
     "metadata": {},
     "output_type": "execute_result"
    }
   ],
   "source": [
    "# # 一つ目の顔に四角を描画\n",
    "# face_1 = face[0]\n",
    "# f1_x = face_1[0]\n",
    "# f1_y = face_1[1]\n",
    "# f1_w = face_1[2]\n",
    "# f1_h = face_1[3]\n",
    "# cv2.rectangle(raw_img, (f1_x, f1_y), (f1_x + f1_w, f1_y + f1_h), (0, 255, 0))\n",
    "# cv2.imwrite('003_face_1.jpg', raw_img)"
   ]
  },
  {
   "cell_type": "code",
   "execution_count": null,
   "id": "1509e9cb",
   "metadata": {},
   "outputs": [],
   "source": [
    "# 全ての顔に四角を描画\n",
    "for f in face:\n",
    "    x, y, w, h = f\n",
    "    cv2.rectangle(raw_img, (x, y), (x + w, y + h), (0, 0, 255))\n",
    "cv2.imwrite('003_face_all.jpg', raw_img)"
   ]
  }
 ],
 "metadata": {
  "kernelspec": {
   "display_name": "Python 3 (ipykernel)",
   "language": "python",
   "name": "python3"
  },
  "language_info": {
   "codemirror_mode": {
    "name": "ipython",
    "version": 3
   },
   "file_extension": ".py",
   "mimetype": "text/x-python",
   "name": "python",
   "nbconvert_exporter": "python",
   "pygments_lexer": "ipython3",
   "version": "3.8.9"
  }
 },
 "nbformat": 4,
 "nbformat_minor": 5
}
